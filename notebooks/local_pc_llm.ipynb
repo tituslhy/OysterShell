{
 "cells": [
  {
   "cell_type": "code",
   "execution_count": 1,
   "id": "39bc3055",
   "metadata": {},
   "outputs": [],
   "source": [
    "%load_ext autoreload\n",
    "%autoreload 2"
   ]
  },
  {
   "cell_type": "code",
   "execution_count": 2,
   "id": "bc2c293f",
   "metadata": {},
   "outputs": [],
   "source": [
    "from IPython.display import display, Markdown"
   ]
  },
  {
   "cell_type": "markdown",
   "id": "44d2bfc5",
   "metadata": {},
   "source": [
    "# 1. The New Way - Docker Deploy\n",
    "\n",
    "To start, ensure you have Docker installed and running!\n",
    "\n",
    "In your terminal, run:\n",
    "```\n",
    "docker desktop enable model-runner --tcp=12434\n",
    "```\n",
    "\n",
    "Then run \n",
    "```\n",
    "docker model pull ai/qwen3:8B-Q4_0\n",
    "```\n",
    "to pull a quantized qwen3 8b model."
   ]
  },
  {
   "cell_type": "code",
   "execution_count": 3,
   "id": "6c004b69",
   "metadata": {},
   "outputs": [],
   "source": [
    "docker_url = \"http://localhost:12434/engines/v1\"\n",
    "docker_llm = \"ai/qwen3:8B-Q4_0\""
   ]
  },
  {
   "cell_type": "markdown",
   "id": "3a5c59ae",
   "metadata": {},
   "source": [
    "#### Testing the Docker deployed model - with OpenAI!"
   ]
  },
  {
   "cell_type": "code",
   "execution_count": 4,
   "id": "5438caa3",
   "metadata": {},
   "outputs": [],
   "source": [
    "from openai import OpenAI\n",
    "\n",
    "docker_client = OpenAI(base_url=docker_url, api_key=\"fake\")\n",
    "\n",
    "prompt = \"Why is the sky blue?\"\n",
    "response = docker_client.chat.completions.create(\n",
    "    model=docker_llm,\n",
    "    messages = [\n",
    "        {\"role\": \"user\", \"content\": prompt}\n",
    "    ]\n",
    ")"
   ]
  },
  {
   "cell_type": "code",
   "execution_count": 5,
   "id": "ae713c9b",
   "metadata": {},
   "outputs": [
    {
     "data": {
      "text/markdown": [
       "The sky appears blue due to a phenomenon called **Rayleigh scattering**, which involves how sunlight interacts with the Earth's atmosphere. Here's a step-by-step explanation:\n",
       "\n",
       "1. **Sunlight Composition**: Sunlight is a mix of all visible colors (violet, blue, green, yellow, orange, red), each with different wavelengths. Blue and violet have shorter wavelengths, while red and orange have longer ones.\n",
       "\n",
       "2. **Atmospheric Interaction**: When sunlight enters Earth's atmosphere, it collides with molecules (like nitrogen and oxygen) and small particles. These particles scatter light in all directions.\n",
       "\n",
       "3. **Rayleigh Scattering**: Shorter wavelengths (blue/violet) scatter more efficiently than longer ones. This is because the scattering is inversely proportional to the fourth power of the wavelength (Rayleigh scattering). As a result, blue light is scattered more widely than red or yellow light.\n",
       "\n",
       "4. **Human Eye Sensitivity**: While violet light scatters even more than blue, the human eye is less sensitive to violet, and some violet light is absorbed by the upper atmosphere. This combination makes the sky appear **blue** rather than violet.\n",
       "\n",
       "5. **Sunrise/Sunset Effect**: During sunrise or sunset, sunlight travels through more atmosphere, scattering out the blue light and leaving the longer wavelengths (red, orange) to dominate, creating the warm hues.\n",
       "\n",
       "**Key Takeaway**: The sky is blue because the atmosphere scatters shorter blue wavelengths more effectively, and our eyes perceive this scattered blue light as the dominant color."
      ],
      "text/plain": [
       "<IPython.core.display.Markdown object>"
      ]
     },
     "metadata": {},
     "output_type": "display_data"
    }
   ],
   "source": [
    "display(Markdown(response.choices[0].message.content))"
   ]
  },
  {
   "cell_type": "markdown",
   "id": "7cd87b9b",
   "metadata": {},
   "source": [
    "#### Using LangChain"
   ]
  },
  {
   "cell_type": "code",
   "execution_count": 6,
   "id": "16387e9d",
   "metadata": {},
   "outputs": [],
   "source": [
    "from langchain_openai import ChatOpenAI\n",
    "\n",
    "langchain_llm = ChatOpenAI(\n",
    "    model_name = docker_llm,\n",
    "    temperature = 0,\n",
    "    api_key = \"fake\",\n",
    "    openai_api_base = docker_url\n",
    ")\n",
    "\n",
    "response = langchain_llm.invoke([{\"role\": \"user\", \"content\": prompt}])"
   ]
  },
  {
   "cell_type": "code",
   "execution_count": 7,
   "id": "2bad51cc",
   "metadata": {},
   "outputs": [
    {
     "data": {
      "text/markdown": [
       "The sky appears blue due to a phenomenon called **Rayleigh scattering**, which involves how sunlight interacts with Earth's atmosphere. Here's a step-by-step explanation:\n",
       "\n",
       "1. **Sunlight Composition**:  \n",
       "   Sunlight is a mix of all visible colors (violet, blue, green, yellow, orange, red), each with different **wavelengths**. Blue and violet have shorter wavelengths, while red and orange have longer ones.\n",
       "\n",
       "2. **Atmospheric Interaction**:  \n",
       "   When sunlight enters Earth's atmosphere, it collides with molecules (like nitrogen and oxygen) and small particles. These scatter the light in all directions. **Shorter wavelengths (blue/violet) scatter more easily** than longer ones (red/orange), a process known as **Rayleigh scattering**.\n",
       "\n",
       "3. **Why Blue Dominates**:  \n",
       "   - **Blue light** (shorter wavelength) scatters more than red, making it spread throughout the sky.  \n",
       "   - **Violet light** (even shorter wavelength) scatters even more, but our eyes are less sensitive to violet, and some of it is absorbed or scattered by the atmosphere.  \n",
       "   - The combination of scattered blue and our eyes' sensitivity makes the sky appear **blue** to us.\n",
       "\n",
       "4. **Sunset and Sunrise Colors**:  \n",
       "   During sunrise or sunset, sunlight travels a longer path through the atmosphere. This scatters away most of the blue light, leaving **red and orange wavelengths** to dominate, creating the warm hues we see.\n",
       "\n",
       "5. **Contrast with the Ocean**:  \n",
       "   The ocean appears blue because water absorbs longer wavelengths (red/orange) and reflects blue light. The sky's blue is purely due to atmospheric scattering, not water.\n",
       "\n",
       "**In Summary**: The sky is blue because shorter-wavelength blue light is scattered more efficiently by atmospheric molecules, and our eyes perceive this scattered light as blue. The absence of violet in the sky is due to both physical scattering and human eye sensitivity."
      ],
      "text/plain": [
       "<IPython.core.display.Markdown object>"
      ]
     },
     "metadata": {},
     "output_type": "display_data"
    }
   ],
   "source": [
    "display(Markdown(response.content))"
   ]
  },
  {
   "cell_type": "markdown",
   "id": "668caedc",
   "metadata": {},
   "source": [
    "#### Using LlamaIndex"
   ]
  },
  {
   "cell_type": "code",
   "execution_count": 8,
   "id": "7566f26b",
   "metadata": {},
   "outputs": [
    {
     "name": "stderr",
     "output_type": "stream",
     "text": [
      "None of PyTorch, TensorFlow >= 2.0, or Flax have been found. Models won't be available and only tokenizers, configuration and file/data utilities can be used.\n"
     ]
    },
    {
     "data": {
      "text/markdown": [
       "Hi! 😊 How can I assist you today? Whether you have questions, need help with something, or just want to chat, I'm here for you! What's on your mind?"
      ],
      "text/plain": [
       "<IPython.core.display.Markdown object>"
      ]
     },
     "metadata": {},
     "output_type": "display_data"
    }
   ],
   "source": [
    "import nest_asyncio\n",
    "from llama_index.llms.openai_like import OpenAILike\n",
    "\n",
    "nest_asyncio.apply()\n",
    "\n",
    "llm = OpenAILike(\n",
    "    model = docker_llm,\n",
    "    api_base = docker_url,\n",
    "    api_key = \"fake\",\n",
    "    is_chat_model = True,\n",
    "    is_function_calling_model = True,\n",
    "    temperature = 0\n",
    ")\n",
    "\n",
    "response = llm.complete(\"Hi!\")\n",
    "\n",
    "display(Markdown(str(response)))"
   ]
  },
  {
   "cell_type": "markdown",
   "id": "5bcec6e4",
   "metadata": {},
   "source": [
    "Creating a tool"
   ]
  },
  {
   "cell_type": "code",
   "execution_count": 9,
   "id": "630220e0",
   "metadata": {},
   "outputs": [],
   "source": [
    "from llama_index.core.agent.workflow import AgentStream, FunctionAgent\n",
    "from llama_index.core.tools import FunctionTool\n",
    "\n",
    "def get_weather(location: str) -> str:\n",
    "    \"\"\"Use this tool to get the weather in a location.\"\"\"\n",
    "    return f\"The weather in {location} is sunny.\"\n",
    "\n",
    "weather_agent = FunctionAgent(\n",
    "    llm = llm,\n",
    "    tools = [FunctionTool.from_defaults(get_weather)]\n",
    ")"
   ]
  },
  {
   "cell_type": "code",
   "execution_count": 10,
   "id": "76f3910a",
   "metadata": {},
   "outputs": [
    {
     "name": "stdout",
     "output_type": "stream",
     "text": [
      "The weather in Sydney is currently sunny. Enjoy your time outdoors! 🌞"
     ]
    }
   ],
   "source": [
    "handler = weather_agent.run(\"Give me the weather in Sydney?\")\n",
    "\n",
    "async for event in handler.stream_events():\n",
    "    if isinstance(event, AgentStream):\n",
    "        print(event.delta, end=\"\", flush=True)"
   ]
  },
  {
   "cell_type": "markdown",
   "id": "60009855",
   "metadata": {},
   "source": [
    "# 2. My favorite way - Ollama!\n",
    "\n",
    "To start, ensure that you have Ollama installed and running.\n",
    "\n",
    "In your terminal, run:\n",
    "```\n",
    "ollama pull qwen2.5\n",
    "```\n",
    "\n",
    "This will pull qwen2.5:7b by default"
   ]
  },
  {
   "cell_type": "code",
   "execution_count": 19,
   "id": "acf84afe",
   "metadata": {},
   "outputs": [],
   "source": [
    "ollama_url = \"http://localhost:11434/v1/\"\n",
    "ollama_llm = \"qwen3\""
   ]
  },
  {
   "cell_type": "markdown",
   "id": "7af83060",
   "metadata": {},
   "source": [
    "#### Using the OpenAI SDK"
   ]
  },
  {
   "cell_type": "code",
   "execution_count": 20,
   "id": "d27a28c4",
   "metadata": {},
   "outputs": [
    {
     "data": {
      "text/markdown": [
       "<think>\n",
       "Okay, so the user is asking why the sky is blue. I remember this is a classic question. Let me think about how to explain it. I think it has to do with the way light interacts with the atmosphere. \n",
       "\n",
       "First, sunlight is white, but it's made up of different colors, each with different wavelengths. I think the atmosphere scatters light, and blue light has a shorter wavelength, so it gets scattered more than other colors. That's Rayleigh scattering, right? \n",
       "\n",
       "Wait, but why does that make the sky blue instead of violet? Because violet has an even shorter wavelength, so why isn't the sky violet? Maybe because our eyes are more sensitive to blue, and there's more blue light in the sunlight. Plus, some of the violet light is absorbed by the atmosphere. \n",
       "\n",
       "Also, during sunrise or sunset, the sky turns red or orange. That's because the sunlight has to pass through more atmosphere, so the blue light is scattered away, leaving the longer wavelengths like red and orange. \n",
       "\n",
       "I should check if there are any other factors. Maybe the presence of molecules in the atmosphere, like nitrogen and oxygen, are responsible for the scattering. Also, the density of the atmosphere affects how much scattering happens. \n",
       "\n",
       "Wait, but I should make sure I'm not confusing Rayleigh scattering with Mie scattering. Mie scattering is for larger particles, like water droplets, which causes white clouds and the white color. So the blue sky is due to Rayleigh scattering from small gas molecules. \n",
       "\n",
       "I need to explain this in a simple way. Start with sunlight, different colors, scattering, blue is scattered more, but why not violet. Also, mention the human eye's sensitivity. Then explain sunrise/sunset as a side note. \n",
       "\n",
       "Let me structure the answer step by step: first, sunlight's spectrum, then scattering in the atmosphere, why blue and not violet, and the effect of sun position. Maybe also mention that without atmosphere, the sky would be black. That adds context. \n",
       "\n",
       "Wait, but should I mention the role of nitrogen and oxygen specifically? Or just say air molecules? Maybe the latter is simpler. Also, the fact that blue photons are scattered in all directions, which is why the sky appears blue from all directions, not just directly above. \n",
       "\n",
       "I think that's a good outline. Make sure it's clear and not too technical, but accurate. Let me put that together now.\n",
       "</think>\n",
       "\n",
       "The sky appears blue due to a phenomenon called **Rayleigh scattering**, which involves how sunlight interacts with the Earth's atmosphere. Here's a simplified explanation:\n",
       "\n",
       "1. **Sunlight and the Spectrum**:  \n",
       "   Sunlight is white, but it consists of a spectrum of colors (like a rainbow), each with different wavelengths (violet, blue, green, yellow, orange, red). Shorter wavelengths (like blue and violet) scatter more easily than longer ones (like red or yellow) when light passes through a medium.\n",
       "\n",
       "2. **Atmospheric Scattering**:  \n",
       "   The Earth's atmosphere is filled with molecules (like nitrogen and oxygen). When sunlight enters the atmosphere, the shorter-wavelength blue and violet light is scattered in all directions by these molecules. This scattering is called **Rayleigh scattering** and is inversely proportional to the fourth power of the wavelength (shorter wavelengths scatter more).\n",
       "\n",
       "3. **Why Blue, Not Violet?**  \n",
       "   While violet light has an even shorter wavelength than blue and scatters more, the Sun emits less violet light than blue. Additionally, some violet light is absorbed by the upper atmosphere. Human eyes are also more sensitive to blue light than violet, so we perceive the sky as blue.\n",
       "\n",
       "4. **Sunrise and Sunset**:  \n",
       "   During these times, sunlight travels through more of the atmosphere, scattering most of the blue light out of our line of sight. This leaves the longer wavelengths (reds, oranges, yellows) to dominate, creating the warm hues of dawn and dusk.\n",
       "\n",
       "5. **Without Atmosphere**:  \n",
       "   If Earth had no atmosphere, the sky would appear black, as there would be no scattering of sunlight to create colors.\n",
       "\n",
       "In summary, the blue sky is a result of Rayleigh scattering, where blue light is scattered more efficiently by atmospheric molecules, and our eyes perceive this scattered blue light across the entire sky."
      ],
      "text/plain": [
       "<IPython.core.display.Markdown object>"
      ]
     },
     "metadata": {},
     "output_type": "display_data"
    }
   ],
   "source": [
    "ollama_client = OpenAI(base_url=ollama_url, api_key=\"fake\")\n",
    "\n",
    "response = ollama_client.chat.completions.create(\n",
    "    model=ollama_llm,\n",
    "    messages = [\n",
    "        {\"role\": \"user\", \"content\": prompt}\n",
    "    ]\n",
    ")\n",
    "\n",
    "display(Markdown(response.choices[0].message.content))"
   ]
  },
  {
   "cell_type": "markdown",
   "id": "fb4ea8df",
   "metadata": {},
   "source": [
    "#### Using the Ollama SDK\n",
    "\n",
    "Which looks like the OpenAI SDK!"
   ]
  },
  {
   "cell_type": "code",
   "execution_count": 21,
   "id": "59df9ec8",
   "metadata": {},
   "outputs": [
    {
     "name": "stdout",
     "output_type": "stream",
     "text": [
      "<think>\n",
      "Okay, so the user is asking why the sky is blue. I remember from school that it has something to do with sunlight and the atmosphere, but I need to recall the exact details. Let me think... I think it's about the scattering of light. Oh right, Rayleigh scattering. But wait, why does that make the sky blue and not another color? \n",
      "\n",
      "First, sunlight is white, but it's made up of different colors, each with different wavelengths. The shorter wavelengths, like blue and violet, scatter more than the longer ones like red or yellow. But why do we see blue instead of violet? Maybe because the sun emits more blue light than violet, and our eyes are more sensitive to blue. Also, some of the violet light is absorbed by the upper atmosphere. \n",
      "\n",
      "Wait, but when the sun is low, like during sunrise or sunset, the sky turns red or orange. That's because the light has to pass through more atmosphere, so the blue light gets scattered away, leaving the longer wavelengths. So that's the reason for the color changes. \n",
      "\n",
      "I should also mention that the scattering is more effective for shorter wavelengths, which is why the sky appears blue. But I need to make sure I explain the concept clearly without getting too technical. Maybe start with the basic idea of sunlight and the atmosphere, then explain Rayleigh scattering, and then address why blue is the dominant color. Also, mention the role of the human eye's sensitivity. \n",
      "\n",
      "Wait, is there any other factor? Like the presence of particles in the atmosphere? No, Rayleigh scattering is about molecules, not particles. Mie scattering is for larger particles, which is why clouds are white. So the answer should focus on Rayleigh scattering and the properties of light. \n",
      "\n",
      "I should also clarify that the sky isn't actually blue in all directions, but the scattered blue light is what we see. So the overall effect is that the sky appears blue. Maybe include a simple analogy, like how a prism splits light into colors, but the scattering is more like a filter. \n",
      "\n",
      "Let me structure this step by step. Start with the sun's light, then the atmosphere's role, explain Rayleigh scattering, compare blue and violet, mention human eye sensitivity, and then the effect of scattering at different times of day. That should cover the main points. Need to make sure it's easy to understand without jargon. Also, check if there's any common misconception to address, like thinking the sky is blue because of the color of the Earth, but that's not the case. \n",
      "\n",
      "Okay, I think that's a solid approach. Now, put it all together in a clear, concise explanation.\n",
      "</think>\n",
      "\n",
      "The sky appears blue due to a phenomenon called **Rayleigh scattering**, which involves how sunlight interacts with the Earth's atmosphere. Here's a simplified explanation:\n",
      "\n",
      "1. **Sunlight and Colors**: Sunlight is white, but it consists of a spectrum of colors, each with different wavelengths (e.g., red has longer wavelengths, blue/ violet have shorter ones).\n",
      "\n",
      "2. **Atmospheric Interaction**: When sunlight enters Earth's atmosphere, it collides with gas molecules (like nitrogen and oxygen). Shorter wavelengths (blue and violet) scatter more easily in all directions than longer wavelengths (red, orange, yellow). This is why the sky appears blue rather than violet.\n",
      "\n",
      "3. **Why Blue, Not Violet?**  \n",
      "   - The sun emits more blue light than violet.  \n",
      "   - Human eyes are more sensitive to blue than violet.  \n",
      "   - Some violet light is absorbed by the upper atmosphere, reducing its contribution to the sky's color.\n",
      "\n",
      "4. **Time of Day Effects**:  \n",
      "   - **Daytime**: Blue light scatters widely, filling the sky with blue.  \n",
      "   - **Sunrise/Sunset**: Light travels through more atmosphere, scattering blue light out of our line of sight. Longer wavelengths (red/orange) dominate, creating warm hues.\n",
      "\n",
      "In essence, the sky’s blue color is a result of how the atmosphere scatters sunlight, with blue light being scattered more efficiently and reaching our eyes most prominently. 🌈\n"
     ]
    }
   ],
   "source": [
    "from ollama import chat\n",
    "from ollama import ChatResponse\n",
    "\n",
    "response: ChatResponse = chat(\n",
    "    model=ollama_llm, \n",
    "    messages=[\n",
    "        {\"role\": \"user\", \"content\": prompt}\n",
    "    ]\n",
    "  )\n",
    "\n",
    "print(response['message']['content'])\n",
    "# or access fields directly from the response object\n",
    "# print(response.message.content)"
   ]
  },
  {
   "cell_type": "markdown",
   "id": "6cc81456",
   "metadata": {},
   "source": [
    "#### Using LangChain"
   ]
  },
  {
   "cell_type": "code",
   "execution_count": 22,
   "id": "eec49600",
   "metadata": {},
   "outputs": [],
   "source": [
    "from langchain_ollama import ChatOllama\n",
    "\n",
    "model = ChatOllama(\n",
    "    model = ollama_llm,\n",
    "    temperature = 0\n",
    ")\n",
    "\n",
    "messages = [\n",
    "    (\n",
    "        \"system\",\n",
    "        \"You are a helpful assistant that translates English to Chinese. Translate the user sentence.\",\n",
    "    ),\n",
    "    (\"human\", \"I love programming.\"),\n",
    "]\n",
    "ai_msg = model.invoke(messages)"
   ]
  },
  {
   "cell_type": "code",
   "execution_count": 23,
   "id": "baa8096e",
   "metadata": {},
   "outputs": [
    {
     "data": {
      "text/markdown": [
       "<think>\n",
       "Okay, the user wants me to translate \"I love programming.\" from English to Chinese. Let me start by understanding the sentence. The main components are \"I\" (subject), \"love\" (verb), and \"programming\" (object). \n",
       "\n",
       "First, \"I\" in Chinese is \"我\". Then \"love\" is a verb, and the translation for \"love\" in this context would be \"爱\" or \"喜欢\". Both are correct, but \"爱\" is more intense, while \"喜欢\" is a bit more casual. Since the user said \"love\", maybe \"爱\" is better here.\n",
       "\n",
       "Next, \"programming\" translates to \"编程\". So putting it all together: \"我爱编程。\" Alternatively, \"我喜欢编程。\" Both are correct. But the user might prefer the more direct translation. Let me check if there are any nuances. \n",
       "\n",
       "In Chinese, \"爱\" is often used for deeper affection, while \"喜欢\" is more about preference. Since the user says \"love\", using \"爱\" would be more accurate. So the translation should be \"我爱编程。\" \n",
       "\n",
       "Wait, but sometimes people might use \"喜欢\" even when they mean \"love\" in a general sense. Maybe the user is okay with either. But since the instruction is to translate accurately, \"爱\" is better. \n",
       "\n",
       "I should also check for any possible errors. The structure is correct: subject + verb + object. No particles needed. So the final translation is \"我爱编程。\"\n",
       "</think>\n",
       "\n",
       "我爱编程。"
      ],
      "text/plain": [
       "<IPython.core.display.Markdown object>"
      ]
     },
     "metadata": {},
     "output_type": "display_data"
    }
   ],
   "source": [
    "display(Markdown(ai_msg.content))"
   ]
  },
  {
   "cell_type": "code",
   "execution_count": null,
   "id": "b2a3fb8d",
   "metadata": {},
   "outputs": [],
   "source": [
    "from langgraph.prebuilt import create_react_agent\n",
    "\n",
    "ollama_langchain_agent = create_react_agent(model, tools=[get_weather])"
   ]
  },
  {
   "cell_type": "code",
   "execution_count": 25,
   "id": "1c1af05a",
   "metadata": {},
   "outputs": [
    {
     "name": "stdout",
     "output_type": "stream",
     "text": [
      "{'agent': {'messages': [AIMessage(content='<think>\\nOkay, the user is asking for the weather in SF. SF stands for San Francisco. I need to use the get_weather function. The function requires a location parameter. So I should call get_weather with location set to \"San Francisco\". Let me make sure there\\'s no typo. Yep, that\\'s correct. Alright, time to format the tool call.\\n</think>\\n\\n', additional_kwargs={}, response_metadata={'model': 'qwen3', 'created_at': '2025-07-16T22:58:46.38297Z', 'done': True, 'done_reason': 'stop', 'total_duration': 2195141916, 'load_duration': 39597666, 'prompt_eval_count': 147, 'prompt_eval_duration': 397647916, 'eval_count': 97, 'eval_duration': 1757394334, 'model_name': 'qwen3'}, id='run--c34d4c14-98ae-4271-9b90-f454d81e4b3f-0', tool_calls=[{'name': 'get_weather', 'args': {'location': 'San Francisco'}, 'id': '8bf42628-8300-4e40-a726-8c4a2c33599d', 'type': 'tool_call'}], usage_metadata={'input_tokens': 147, 'output_tokens': 97, 'total_tokens': 244})]}}\n",
      "{'tools': {'messages': [ToolMessage(content='The weather in San Francisco is sunny.', name='get_weather', id='ac9e178a-e70f-4803-8ce6-9e3ba5417b86', tool_call_id='8bf42628-8300-4e40-a726-8c4a2c33599d')]}}\n",
      "{'agent': {'messages': [AIMessage(content='<think>\\n</think>\\n\\nThe weather in San Francisco is sunny.', additional_kwargs={}, response_metadata={'model': 'qwen3', 'created_at': '2025-07-16T22:58:46.707274Z', 'done': True, 'done_reason': 'stop', 'total_duration': 318538250, 'load_duration': 17876666, 'prompt_eval_count': 244, 'prompt_eval_duration': 75975833, 'eval_count': 13, 'eval_duration': 222266667, 'model_name': 'qwen3'}, id='run--0747a3a0-7df6-431e-81d2-f7209f033c96-0', usage_metadata={'input_tokens': 244, 'output_tokens': 13, 'total_tokens': 257})]}}\n"
     ]
    }
   ],
   "source": [
    "async for chunk in ollama_langchain_agent.astream(\n",
    "    {\"messages\": [{\"role\": \"user\", \"content\": \"what is the weather in sf\"}]},\n",
    "    stream_mode=\"updates\"\n",
    "):\n",
    "    # chunk['messages'].pretty_print()\n",
    "    print(chunk)"
   ]
  }
 ],
 "metadata": {
  "kernelspec": {
   "display_name": "oystershell",
   "language": "python",
   "name": "python3"
  },
  "language_info": {
   "codemirror_mode": {
    "name": "ipython",
    "version": 3
   },
   "file_extension": ".py",
   "mimetype": "text/x-python",
   "name": "python",
   "nbconvert_exporter": "python",
   "pygments_lexer": "ipython3",
   "version": "3.12.5"
  }
 },
 "nbformat": 4,
 "nbformat_minor": 5
}
